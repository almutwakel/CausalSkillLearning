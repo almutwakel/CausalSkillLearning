{
 "cells": [
  {
   "cell_type": "code",
   "execution_count": 30,
   "metadata": {},
   "outputs": [
    {
     "name": "stdout",
     "output_type": "stream",
     "text": [
      "Collecting scikit-learn\n",
      "  Downloading scikit_learn-1.4.1.post1-cp39-cp39-win_amd64.whl (10.6 MB)\n",
      "Collecting joblib>=1.2.0\n",
      "  Downloading joblib-1.3.2-py3-none-any.whl (302 kB)\n",
      "Requirement already satisfied: scipy>=1.6.0 in c:\\users\\tshankar\\appdata\\local\\programs\\python\\python39\\lib\\site-packages (from scikit-learn) (1.11.3)\n",
      "Collecting threadpoolctl>=2.0.0\n",
      "  Downloading threadpoolctl-3.3.0-py3-none-any.whl (17 kB)\n",
      "Requirement already satisfied: numpy<2.0,>=1.19.5 in c:\\users\\tshankar\\appdata\\local\\programs\\python\\python39\\lib\\site-packages (from scikit-learn) (1.26.1)\n",
      "Installing collected packages: joblib, threadpoolctl, scikit-learn\n",
      "Successfully installed joblib-1.3.2 scikit-learn-1.4.1.post1 threadpoolctl-3.3.0\n",
      "Note: you may need to restart the kernel to use updated packages.\n"
     ]
    },
    {
     "name": "stderr",
     "output_type": "stream",
     "text": [
      "WARNING: You are using pip version 20.2.3; however, version 24.0 is available.\n",
      "You should consider upgrading via the 'c:\\Users\\tshankar\\AppData\\Local\\Programs\\Python\\Python39\\python.exe -m pip install --upgrade pip' command.\n"
     ]
    }
   ],
   "source": [
    "pip install scikit-learn"
   ]
  },
  {
   "cell_type": "code",
   "execution_count": 31,
   "metadata": {},
   "outputs": [],
   "source": [
    "import numpy as np\n",
    "import glob, os, copy\n",
    "%matplotlib widget\n",
    "import matplotlib.pyplot as plt\n",
    "import sklearn.manifold as skl_manifold\n"
   ]
  },
  {
   "cell_type": "code",
   "execution_count": 12,
   "metadata": {},
   "outputs": [
    {
     "name": "stdout",
     "output_type": "stream",
     "text": [
      "C:\\Users\\tshankar\\Desktop\\Research\\Data\\Results\\IROS24_Submission\\JointH2RDir\\ZSet\\E0_C0\n"
     ]
    }
   ],
   "source": [
    "cd  C:\\Users\\tshankar\\Desktop\\Research\\Data\\Results\\IROS24_Submission\\JointH2RDir\\ZSet\\E0_C0"
   ]
  },
  {
   "cell_type": "code",
   "execution_count": 16,
   "metadata": {},
   "outputs": [],
   "source": [
    "human_zs = np.load(\"LatentSet.npy\")\n",
    "human_task_list = np.load(\"TaskIDSet.npy\")"
   ]
  },
  {
   "cell_type": "code",
   "execution_count": 17,
   "metadata": {},
   "outputs": [
    {
     "name": "stdout",
     "output_type": "stream",
     "text": [
      "C:\\Users\\tshankar\\Desktop\\Research\\Data\\Results\\IROS24_Submission\\JointH2RDir\\ZSet\\E96000_C192000\n"
     ]
    }
   ],
   "source": [
    "cd  C:\\Users\\tshankar\\Desktop\\Research\\Data\\Results\\IROS24_Submission\\JointH2RDir\\ZSet\\E96000_C192000/"
   ]
  },
  {
   "cell_type": "code",
   "execution_count": 18,
   "metadata": {},
   "outputs": [],
   "source": [
    "robot_zs = np.load(\"LatentSet.npy\")\n",
    "robot_task_list = np.load(\"TaskIDSet.npy\")"
   ]
  },
  {
   "cell_type": "code",
   "execution_count": 25,
   "metadata": {},
   "outputs": [],
   "source": [
    "comp_task_list = ['Pouring+Stirring', 'DrawerOpening+PickPlace', 'BoxOpening+Pouring']\n",
    "indiv_task_list = ['Pouring', 'BoxOpening', 'DrawerOpening', 'PickPlace', 'Stirring']"
   ]
  },
  {
   "cell_type": "code",
   "execution_count": 34,
   "metadata": {},
   "outputs": [],
   "source": [
    "def get_embedding(latent_zs, tsne=None):\n",
    "\n",
    "\tperplexity = 30\n",
    "\tif tsne is None:\n",
    "\t\ttsne = skl_manifold.TSNE(n_components=2,random_state=0,perplexity=perplexity)\t\t\n",
    "\tembedded_zs = tsne.fit_transform(latent_zs)\n",
    "\treturn embedded_zs, tsne"
   ]
  },
  {
   "cell_type": "code",
   "execution_count": 37,
   "metadata": {},
   "outputs": [],
   "source": [
    "robot_embedded_zs, robot_tsne = get_embedding(robot_zs)\n",
    "human_embedded_zs, _ = get_embedding(human_zs, tsne=robot_tsne)"
   ]
  },
  {
   "cell_type": "code",
   "execution_count": 38,
   "metadata": {},
   "outputs": [
    {
     "ename": "ValueError",
     "evalue": "x and y must be the same size",
     "output_type": "error",
     "traceback": [
      "\u001b[1;31m---------------------------------------------------------------------------\u001b[0m",
      "\u001b[1;31mValueError\u001b[0m                                Traceback (most recent call last)",
      "\u001b[1;32m<ipython-input-38-93729895de08>\u001b[0m in \u001b[0;36m<module>\u001b[1;34m\u001b[0m\n\u001b[1;32m----> 1\u001b[1;33m \u001b[0mplt\u001b[0m\u001b[1;33m.\u001b[0m\u001b[0mscatter\u001b[0m\u001b[1;33m(\u001b[0m\u001b[0mrobot_embedded_zs\u001b[0m\u001b[1;33m,\u001b[0m \u001b[1;34m'r'\u001b[0m\u001b[1;33m)\u001b[0m\u001b[1;33m\u001b[0m\u001b[1;33m\u001b[0m\u001b[0m\n\u001b[0m\u001b[0;32m      2\u001b[0m \u001b[0mplt\u001b[0m\u001b[1;33m.\u001b[0m\u001b[0mscatter\u001b[0m\u001b[1;33m(\u001b[0m\u001b[0mhuman_embedded_zs\u001b[0m\u001b[1;33m,\u001b[0m \u001b[1;34m'b'\u001b[0m\u001b[1;33m)\u001b[0m\u001b[1;33m\u001b[0m\u001b[1;33m\u001b[0m\u001b[0m\n\u001b[0;32m      3\u001b[0m \u001b[0mplt\u001b[0m\u001b[1;33m.\u001b[0m\u001b[0mshow\u001b[0m\u001b[1;33m(\u001b[0m\u001b[1;33m)\u001b[0m\u001b[1;33m\u001b[0m\u001b[1;33m\u001b[0m\u001b[0m\n",
      "\u001b[1;32mc:\\Users\\tshankar\\AppData\\Local\\Programs\\Python\\Python39\\lib\\site-packages\\matplotlib\\pyplot.py\u001b[0m in \u001b[0;36mscatter\u001b[1;34m(x, y, s, c, marker, cmap, norm, vmin, vmax, alpha, linewidths, edgecolors, plotnonfinite, data, **kwargs)\u001b[0m\n\u001b[0;32m   3685\u001b[0m     \u001b[1;33m**\u001b[0m\u001b[0mkwargs\u001b[0m\u001b[1;33m,\u001b[0m\u001b[1;33m\u001b[0m\u001b[1;33m\u001b[0m\u001b[0m\n\u001b[0;32m   3686\u001b[0m ) -> PathCollection:\n\u001b[1;32m-> 3687\u001b[1;33m     __ret = gca().scatter(\n\u001b[0m\u001b[0;32m   3688\u001b[0m         \u001b[0mx\u001b[0m\u001b[1;33m,\u001b[0m\u001b[1;33m\u001b[0m\u001b[1;33m\u001b[0m\u001b[0m\n\u001b[0;32m   3689\u001b[0m         \u001b[0my\u001b[0m\u001b[1;33m,\u001b[0m\u001b[1;33m\u001b[0m\u001b[1;33m\u001b[0m\u001b[0m\n",
      "\u001b[1;32mc:\\Users\\tshankar\\AppData\\Local\\Programs\\Python\\Python39\\lib\\site-packages\\matplotlib\\__init__.py\u001b[0m in \u001b[0;36minner\u001b[1;34m(ax, data, *args, **kwargs)\u001b[0m\n\u001b[0;32m   1490\u001b[0m     \u001b[1;32mdef\u001b[0m \u001b[0minner\u001b[0m\u001b[1;33m(\u001b[0m\u001b[0max\u001b[0m\u001b[1;33m,\u001b[0m \u001b[1;33m*\u001b[0m\u001b[0margs\u001b[0m\u001b[1;33m,\u001b[0m \u001b[0mdata\u001b[0m\u001b[1;33m=\u001b[0m\u001b[1;32mNone\u001b[0m\u001b[1;33m,\u001b[0m \u001b[1;33m**\u001b[0m\u001b[0mkwargs\u001b[0m\u001b[1;33m)\u001b[0m\u001b[1;33m:\u001b[0m\u001b[1;33m\u001b[0m\u001b[1;33m\u001b[0m\u001b[0m\n\u001b[0;32m   1491\u001b[0m         \u001b[1;32mif\u001b[0m \u001b[0mdata\u001b[0m \u001b[1;32mis\u001b[0m \u001b[1;32mNone\u001b[0m\u001b[1;33m:\u001b[0m\u001b[1;33m\u001b[0m\u001b[1;33m\u001b[0m\u001b[0m\n\u001b[1;32m-> 1492\u001b[1;33m             \u001b[1;32mreturn\u001b[0m \u001b[0mfunc\u001b[0m\u001b[1;33m(\u001b[0m\u001b[0max\u001b[0m\u001b[1;33m,\u001b[0m \u001b[1;33m*\u001b[0m\u001b[0mmap\u001b[0m\u001b[1;33m(\u001b[0m\u001b[0msanitize_sequence\u001b[0m\u001b[1;33m,\u001b[0m \u001b[0margs\u001b[0m\u001b[1;33m)\u001b[0m\u001b[1;33m,\u001b[0m \u001b[1;33m**\u001b[0m\u001b[0mkwargs\u001b[0m\u001b[1;33m)\u001b[0m\u001b[1;33m\u001b[0m\u001b[1;33m\u001b[0m\u001b[0m\n\u001b[0m\u001b[0;32m   1493\u001b[0m \u001b[1;33m\u001b[0m\u001b[0m\n\u001b[0;32m   1494\u001b[0m         \u001b[0mbound\u001b[0m \u001b[1;33m=\u001b[0m \u001b[0mnew_sig\u001b[0m\u001b[1;33m.\u001b[0m\u001b[0mbind\u001b[0m\u001b[1;33m(\u001b[0m\u001b[0max\u001b[0m\u001b[1;33m,\u001b[0m \u001b[1;33m*\u001b[0m\u001b[0margs\u001b[0m\u001b[1;33m,\u001b[0m \u001b[1;33m**\u001b[0m\u001b[0mkwargs\u001b[0m\u001b[1;33m)\u001b[0m\u001b[1;33m\u001b[0m\u001b[1;33m\u001b[0m\u001b[0m\n",
      "\u001b[1;32mc:\\Users\\tshankar\\AppData\\Local\\Programs\\Python\\Python39\\lib\\site-packages\\matplotlib\\axes\\_axes.py\u001b[0m in \u001b[0;36mscatter\u001b[1;34m(self, x, y, s, c, marker, cmap, norm, vmin, vmax, alpha, linewidths, edgecolors, plotnonfinite, **kwargs)\u001b[0m\n\u001b[0;32m   4650\u001b[0m         \u001b[0my\u001b[0m \u001b[1;33m=\u001b[0m \u001b[0mnp\u001b[0m\u001b[1;33m.\u001b[0m\u001b[0mma\u001b[0m\u001b[1;33m.\u001b[0m\u001b[0mravel\u001b[0m\u001b[1;33m(\u001b[0m\u001b[0my\u001b[0m\u001b[1;33m)\u001b[0m\u001b[1;33m\u001b[0m\u001b[1;33m\u001b[0m\u001b[0m\n\u001b[0;32m   4651\u001b[0m         \u001b[1;32mif\u001b[0m \u001b[0mx\u001b[0m\u001b[1;33m.\u001b[0m\u001b[0msize\u001b[0m \u001b[1;33m!=\u001b[0m \u001b[0my\u001b[0m\u001b[1;33m.\u001b[0m\u001b[0msize\u001b[0m\u001b[1;33m:\u001b[0m\u001b[1;33m\u001b[0m\u001b[1;33m\u001b[0m\u001b[0m\n\u001b[1;32m-> 4652\u001b[1;33m             \u001b[1;32mraise\u001b[0m \u001b[0mValueError\u001b[0m\u001b[1;33m(\u001b[0m\u001b[1;34m\"x and y must be the same size\"\u001b[0m\u001b[1;33m)\u001b[0m\u001b[1;33m\u001b[0m\u001b[1;33m\u001b[0m\u001b[0m\n\u001b[0m\u001b[0;32m   4653\u001b[0m \u001b[1;33m\u001b[0m\u001b[0m\n\u001b[0;32m   4654\u001b[0m         \u001b[1;32mif\u001b[0m \u001b[0ms\u001b[0m \u001b[1;32mis\u001b[0m \u001b[1;32mNone\u001b[0m\u001b[1;33m:\u001b[0m\u001b[1;33m\u001b[0m\u001b[1;33m\u001b[0m\u001b[0m\n",
      "\u001b[1;31mValueError\u001b[0m: x and y must be the same size"
     ]
    },
    {
     "data": {
      "application/vnd.jupyter.widget-view+json": {
       "model_id": "f9053c5fed3f44f0a10965c8b61a1cd1",
       "version_major": 2,
       "version_minor": 0
      },
      "image/png": "[encoded data removed]",
      "text/html": [
       "\n",
       "            <div style=\"display: inline-block;\">\n",
       "                <div class=\"jupyter-widgets widget-label\" style=\"text-align: center;\">\n",
       "                    Figure\n",
       "                </div>\n",
       "                <img src='data:image/png;base64,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' width=640.0/>\n",
       "            </div>\n",
       "        "
      ],
      "text/plain": [
       "Canvas(toolbar=Toolbar(toolitems=[('Home', 'Reset original view', 'home', 'home'), ('Back', 'Back to previous …"
      ]
     },
     "metadata": {},
     "output_type": "display_data"
    }
   ],
   "source": [
    "plt.scatter(robot_embedded_zs, 'r')\n",
    "plt.scatter(human_embedded_zs, 'b')\n",
    "plt.show()"
   ]
  },
  {
   "cell_type": "code",
   "execution_count": null,
   "metadata": {},
   "outputs": [],
   "source": [
    "def get_plot():\n",
    "    # For each compositional task, use a different marker. \n",
    "    # For each constituent individual task, one of the original 5 colors for each task for the skill. \n",
    "    \n",
    "    # Create 3 lists for each compositional task, which stores indices of embedded_zs that are of that task.\n",
    "    per_compositional_task_indices = {}\n",
    "    individual_task_indices = []\n",
    "\n",
    "    for k, v in enumerate(self.dataset.task_list):\n",
    "        per_compositional_task_indices[v] = []\n",
    "    \n",
    "    # print(\"Embed in plot for composiitonal thingies. \")\n",
    "    # embed()\n",
    "            \n",
    "    fig = plt.figure()\n",
    "    ax = fig.gca()\t\t\t\t\n",
    "\n",
    "    for k in range(len(embedded_zs)):\n",
    "        \n",
    "        # For all embedded z's, add index of this z to the appropriate composiitonal task index list.\n",
    "        per_compositional_task_indices[self.dataset.task_list[self.task_id_set[k]]].append(k)\n",
    "        \n",
    "        # For all embedded z's, get which individual task this segment came from. \t\t\n",
    "        # The logic here is that if starting segment index < split index - 7, use the first index. Otherwise use the second index. \n",
    "        # index = 1-int(self.segment_indices_set[k] <= (self.task_split_indices_set[k]-7))\n",
    "        index = int(self.segment_indices_set[k] > (self.task_split_indices_set[k]-7))\n",
    "\n",
    "        # First get what compositional task this is. Then get the name of which individual task it is. \t\t\t\t\t\t\t\t\n",
    "        individual_task_indices.append( self.dataset.individual_task_list.index( self.dataset.compositional_task_sets[ self.dataset.task_list[self.task_id_set[k]] ][index] ) )\t\t\t\t\t\t\n",
    "\n",
    "    # Now for each compositional task, plot things with a particular marker. \n",
    "    marker_list = ['o', 'D', 's']\n",
    "    max_task = 4 \n",
    "\n",
    "    for k, v in enumerate(self.dataset.task_list):\t\t\t\n",
    "\n",
    "        individual_task_indices_array = np.array(individual_task_indices)[np.array(per_compositional_task_indices[v])]\n",
    "        colors = 0.1 + (0.75*(individual_task_indices_array/max_task))\n",
    "\n",
    "        xs = embedded_zs[np.array(per_compositional_task_indices[v]),0]\n",
    "        ys = embedded_zs[np.array(per_compositional_task_indices[v]),1]\n",
    "\n",
    "        # ##############################\n",
    "        # # PLOT OPTION 1 - markers \n",
    "        # ##############################\t\t\n",
    "        ax.scatter(xs, ys, c=colors, marker=marker_list[k], vmin=0, vmax=1, s=100, cmap='jet', edgecolors='black')\t\t\t\n",
    "        \n",
    "        # ##############################\n",
    "        # # # PLOT OPTION 2 - no markers, just bigger plots and colors\n",
    "        # ##############################\n",
    "\n",
    "        # # First plot with compositional task colors with bigger sizes. \n",
    "        # new_colors = 0.1 + 0.75*(k/2)*np.ones_like(colors)\n",
    "        # ax.scatter(xs, ys, c=new_colors, vmin=0, vmax=1, marker=marker_list[k], s=200, cmap='jet', edgecolors='black')\n",
    "\n",
    "        # # Then plot with task colors.\n",
    "        # ax.scatter(xs, ys, c=colors, vmin=0, vmax=1, cmap='jet', edgecolors='black')\n",
    "\n",
    "    # Title. \n",
    "    ax.set_title(\"{0}\".format(title),fontdict={'fontsize':15})\n",
    "    fig.canvas.draw()\n",
    "    # Grab image.\n",
    "    width, height = fig.get_size_inches() * fig.get_dpi()\n",
    "    image = np.fromstring(fig.canvas.tostring_rgb(), dtype=np.uint8).reshape(int(height), int(width), 3)\n",
    "    image = np.transpose(image, axes=[2,0,1])\n",
    "\n",
    "    return image"
   ]
  }
 ],
 "metadata": {
  "kernelspec": {
   "display_name": "Python 3",
   "language": "python",
   "name": "python3"
  },
  "language_info": {
   "codemirror_mode": {
    "name": "ipython",
    "version": 3
   },
   "file_extension": ".py",
   "mimetype": "text/x-python",
   "name": "python",
   "nbconvert_exporter": "python",
   "pygments_lexer": "ipython3",
   "version": "3.9.0"
  }
 },
 "nbformat": 4,
 "nbformat_minor": 2
}
