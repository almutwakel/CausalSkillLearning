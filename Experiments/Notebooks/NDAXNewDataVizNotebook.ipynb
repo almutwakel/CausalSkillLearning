{
 "cells": [
  {
   "cell_type": "code",
   "execution_count": null,
   "metadata": {},
   "outputs": [],
   "source": [
    "pip install matplotlib\n",
    "pip install PyQt5\n",
    "pip install numpy\n",
    "pip install scipy"
   ]
  },
  {
   "cell_type": "code",
   "execution_count": 1,
   "metadata": {},
   "outputs": [
    {
     "name": "stderr",
     "output_type": "stream",
     "text": [
      "<ipython-input-1-67757f6be005>:5: DeprecationWarning: Please use `gaussian_filter1d` from the `scipy.ndimage` namespace, the `scipy.ndimage.filters` namespace is deprecated.\n",
      "  from scipy.ndimage.filters import gaussian_filter1d\n"
     ]
    }
   ],
   "source": [
    "import numpy as np\n",
    "import glob, os, copy\n",
    "%matplotlib widget\n",
    "import matplotlib.pyplot as plt\n",
    "from scipy.ndimage.filters import gaussian_filter1d\n",
    "plt.ion\n",
    "np.set_printoptions(precision=2, suppress=True)"
   ]
  },
  {
   "cell_type": "code",
   "execution_count": 2,
   "metadata": {},
   "outputs": [],
   "source": [
    "# def check_validity(current_data_value, previous_average):\n",
    "def check_diff_invalidity(current_data_value, previous_average):    \n",
    "    epsilon = 0.75\n",
    "    return not(np.linalg.norm(current_data_value - previous_average) <= epsilon)\n",
    "\n",
    "def check_stat_invalidity(current_data_value, previous_average):\n",
    "    epsilon = 1.0\n",
    "    statistical_mean = np.array([3.45, -2.4, 0.75])\n",
    "    return np.linalg.norm(current_data_value - statistical_mean) <= epsilon\n",
    "\n",
    "def check_stat_and_diff_invalidity(current_data_value, previous_average, t, latest_valid_index):\n",
    "\n",
    "    if latest_valid_index==-1:\n",
    "        previous_average = current_data_value\n",
    "            \n",
    "    invalid = check_diff_invalidity(current_data_value, previous_average) or check_stat_invalidity(current_data_value, previous_average)\n",
    "\n",
    "    return invalid\n",
    "    \n",
    "    # return check_diff_invalidity(current_data_value, previous_average) and check_stat_invalidity(current_data_value, previous_average)\n",
    "    # return check_diff_invalidity(current_data_value, previous_average) or check_stat_invalidity(current_data_value, previous_average)\n",
    "\n",
    "def filter_outliers(data):\n",
    "\n",
    "    filter_size = 3\n",
    "    # epsilon = 0.5 * np.ones(3)\n",
    "    epsilon = 0.5\n",
    "    alt_data = copy.deepcopy(data)\n",
    "    averages = np.zeros_like(data)\n",
    "    validity = np.ones(data.shape[0])\n",
    "    latest_valid_index = -1\n",
    "\n",
    "    # Initialize average.\n",
    "    averages[0] = data[0]    \n",
    "\n",
    "    print(\"Hello, about to start filtering.\")    \n",
    "\n",
    "\t# Statistical mode check\n",
    "    if check_stat_invalidity(alt_data[0], averages[0]):\n",
    "        validity[0] = 0\n",
    "\n",
    "    for k in range(1, data.shape[0]):\n",
    "        \n",
    "        # Check validity\n",
    "        # If we think it's an outlying datapoint based on averages, rewrite the data to last valid data point, \n",
    "        # and set validity to 0. \n",
    "        # if not(check_diff_validity(alt_data[k], averages[k-1])):\n",
    "        # if not(check_stat_validity(alt_data[k], averages[k-1])):   \n",
    "        if check_stat_and_diff_invalidity(alt_data[k], averages[k-1], k, latest_valid_index):\n",
    "            alt_data[k] = copy.deepcopy(alt_data[k-1])\n",
    "            validity[k] = 0.\n",
    "            # The average is now defined as the mean over the previous filter_size - 1 elements, and the current element.. \n",
    "            # averages[k] = alt_data[max(0, k+1-filter_size):k+1].mean(axis=0)\n",
    "            averages[k] = alt_data[max(latest_valid_index, k+1-filter_size):k+1].mean(axis=0)\n",
    "        else:            \n",
    "            # Special case ofr us encountering the first valid data point afer a stream of invalid data points. \n",
    "            if latest_valid_index == -1:\n",
    "                # Set average to current value.. \n",
    "                averages[k] = alt_data[k]\n",
    "            else:\n",
    "                # The average is now defined as the mean over the previous filter_size - 1 elements, and the current element.. \n",
    "                # averages[k] = alt_data[max(0, k+1-filter_size):k+1].mean(axis=0)\n",
    "                averages[k] = alt_data[max(latest_valid_index, k+1-filter_size):k+1].mean(axis=0)\n",
    "\n",
    "            # Set the last valid index to current timepoint. \n",
    "            latest_valid_index = k\n",
    "\n",
    "        # print(\"#######################\")\n",
    "        # print(\"Filtering timestep: \", k)\n",
    "        # print(data[k], averages[k-1], np.linalg.norm(data[k] - averages[k-1]))\n",
    "\n",
    "        # The average is now defined as the mean over the previous filter_size - 1 elements, and the current element.. \n",
    "        # averages[k] = alt_data[max(0, k+1-filter_size):k+1].mean(axis=0)\n",
    "    \n",
    "    return averages, validity"
   ]
  },
  {
   "cell_type": "code",
   "execution_count": 3,
   "metadata": {},
   "outputs": [],
   "source": [
    "def interpolate_position(valid=None, position_sequence=None):\n",
    "\t\n",
    "\tfrom scipy import interpolate\n",
    "\t\n",
    "\t# Interp1d from Scipy expects the last dimension to be the dimension we are ninterpolating over. \t\n",
    "\tvalid_positions = np.swapaxes(position_sequence[valid==1], 1, 0)\n",
    "\tvalid_times = np.where(valid==1)[0]\n",
    "\tquery_times = np.arange(0, len(position_sequence))\n",
    "\n",
    "\t# Create interpolating function. \n",
    "\tinterpolating_function = interpolate.interp1d(valid_times, valid_positions)\n",
    "\n",
    "\t# Query interpolating function. \n",
    "\tinterpolated_positions = interpolating_function(query_times)\n",
    "\n",
    "\t# Swap axes back and return. \n",
    "\treturn np.swapaxes(interpolated_positions, 1, 0)\n",
    "\n",
    "def interpolate_orientation(valid=None, orientation_sequence=None):\n",
    "\n",
    "\tfrom scipy.spatial.transform import Rotation as R\n",
    "\tfrom scipy.spatial.transform import Slerp\n",
    "\n",
    "\tvalid_orientations = orientation_sequence[valid==1]\n",
    "\trotation_sequence = R.concatenate(R.from_quat(valid_orientations))\n",
    "\tvalid_times = np.where(valid==1)[0]\n",
    "\tquery_times = np.arange(0, len(orientation_sequence))\n",
    "\n",
    "\t# Create slerp object. \n",
    "\tslerp_object = Slerp(valid_times, rotation_sequence)\n",
    "\n",
    "\t# Query the slerp object. \n",
    "\tinterpolated_rotations = slerp_object(query_times)\n",
    "\n",
    "\t# Convert to quaternions.\n",
    "\tinterpolated_quaternion_sequence = interpolated_rotations.as_quat()\n",
    "\t\n",
    "\treturn interpolated_quaternion_sequence\n",
    "\n",
    "def interpolate_valid_data(valid_data, validity):\n",
    "\n",
    "    # Really this should follow the exact same pipeline as remaining dataloader stuff.. \n",
    "\t# Last elements will always be valid. \n",
    "\t# First may not be - backfill this. \n",
    "\n",
    "\t# Phase 2.a : The first few elements may not be valid (here, the last elements always will be). \n",
    "\t# If so, backfill first few elements with the first valid element. \n",
    "\tfirst_valid_index = np.where(validity)[0][0]\n",
    "\tif first_valid_index>0:\n",
    "\t\tvalid_data[:first_valid_index] = valid_data[first_valid_index]\n",
    "\t\tvalidity[:first_valid_index] = 1\n",
    "\n",
    "\t# Phase 2.b : Now that we have valid starts and ends, interpolate the data. \n",
    "\tinterpolated_data = interpolate_position(valid=validity, position_sequence=valid_data)\n",
    "\t\n",
    "\treturn interpolated_data"
   ]
  },
  {
   "cell_type": "code",
   "execution_count": 4,
   "metadata": {},
   "outputs": [],
   "source": [
    "# def old_process_data(data):\n",
    "\n",
    "#     # Select Posiiton Data.\n",
    "#     processed_data = data[1:, 10:13]\n",
    "#     filtered_data, validity = filter_outliers(processed_data)\n",
    "#     return filtered_data\n",
    "\n",
    "def process_data(data):\n",
    "\n",
    "    # Select Posiiton Data.\n",
    "    processed_data = data[1:, 10:13]\n",
    "    filtered_data, validity = filter_outliers(processed_data)\n",
    "    # filtered_data = processed_data\n",
    "\n",
    "    # Interpolate data - second phase \n",
    "    interpolated_data = interpolate_valid_data(filtered_data, validity)\n",
    "\n",
    "    # Smoothen data\n",
    "    kernel_bandwidth = 3\n",
    "    smoothed_data = gaussian_filter1d(interpolated_data,kernel_bandwidth,axis=0,mode='nearest')\n",
    "\n",
    "    # return filtered_data\n",
    "    # return interpolated_data\n",
    "    return smoothed_data\n",
    "\n",
    "def plot_traj(original_data, processed_data=None):\n",
    "    # plt.close()\n",
    "    plt.figure()\n",
    "    plt.plot(original_data)\n",
    "    if processed_data is not None:\n",
    "        plt.plot(processed_data, 'o', markersize=2)\n",
    "    plt.show()"
   ]
  },
  {
   "cell_type": "code",
   "execution_count": 6,
   "metadata": {},
   "outputs": [
    {
     "name": "stdout",
     "output_type": "stream",
     "text": [
      "C:\\Users\\tshankar\\Desktop\\Research\\Data\\NDAX\\dataset_prelim_2\\dataset_prelim_2\n"
     ]
    }
   ],
   "source": [
    "cd C:\\Users\\tshankar\\Desktop\\Research\\Data\\NDAX\\dataset_prelim_2\\dataset_prelim_2\\"
   ]
  },
  {
   "cell_type": "code",
   "execution_count": 15,
   "metadata": {},
   "outputs": [
    {
     "name": "stdout",
     "output_type": "stream",
     "text": [
      "0 gripper_state1\n",
      "1 gripper_state2\n",
      "2 gripper_state3\n",
      "3 gripper_state4\n",
      "4 gripper_state5\n",
      "5 gripper_state6\n",
      "6 orientation_w\n",
      "7 orientation_w_elbow\n",
      "8 orientation_w_object\n",
      "9 orientation_w_shoulder\n",
      "10 orientation_x\n",
      "11 orientation_x_elbow\n",
      "12 orientation_x_object\n",
      "13 orientation_x_shoulder\n",
      "14 orientation_y\n",
      "15 orientation_y_elbow\n",
      "16 orientation_y_object\n",
      "17 orientation_y_shoulder\n",
      "18 orientation_z\n",
      "19 orientation_z_elbow\n",
      "20 orientation_z_object\n",
      "21 orientation_z_shoulder\n",
      "22 position_x\n",
      "23 position_x_elbow\n",
      "24 position_x_object\n",
      "25 position_x_shoulder\n",
      "26 position_y\n",
      "27 position_y_elbow\n",
      "28 position_y_object\n",
      "29 position_y_shoulder\n",
      "30 position_z\n",
      "31 position_z_elbow\n",
      "32 position_z_object\n",
      "33 position_z_shoulder\n",
      "34 stamp\n"
     ]
    }
   ],
   "source": [
    "ordered_joint_list = np.array(['gripper_state1', 'gripper_state2', 'gripper_state3',\n",
    "    'gripper_state4', 'gripper_state5', 'gripper_state6',\n",
    "    'orientation_w', 'orientation_w_elbow', 'orientation_w_object',\n",
    "    'orientation_w_shoulder', 'orientation_x', 'orientation_x_elbow',\n",
    "    'orientation_x_object', 'orientation_x_shoulder', 'orientation_y',\n",
    "    'orientation_y_elbow', 'orientation_y_object',\n",
    "    'orientation_y_shoulder', 'orientation_z', 'orientation_z_elbow',\n",
    "    'orientation_z_object', 'orientation_z_shoulder', 'position_x',\n",
    "    'position_x_elbow', 'position_x_object', 'position_x_shoulder',\n",
    "    'position_y', 'position_y_elbow', 'position_y_object',\n",
    "    'position_y_shoulder', 'position_z', 'position_z_elbow',\n",
    "    'position_z_object', 'position_z_shoulder', 'stamp'], dtype='<U23')\n",
    "\n",
    "for k, v in enumerate(ordered_joint_list):\n",
    "    print(k,v)"
   ]
  },
  {
   "cell_type": "code",
   "execution_count": 41,
   "metadata": {},
   "outputs": [],
   "source": [
    "# ALL OF THESE ORIENTATIONS HAVE W FIRST. \n",
    "joint_index_dictionary = {}\n",
    "# \n",
    "joint_index_dictionary['gripper_joints'] = np.arange(0,6)\n",
    "# \n",
    "joint_index_dictionary['shoulder_position'] = np.array([25, 29, 33])\n",
    "joint_index_dictionary['shoulder_orientation'] = np.array([9, 13, 17, 21])\n",
    "#\n",
    "joint_index_dictionary['elbow_position'] = np.array([23, 27, 31])\n",
    "joint_index_dictionary['elbow_orientation'] = np.array([7, 11, 15, 19])\n",
    "#\n",
    "joint_index_dictionary['wrist_position'] = np.array([22, 26, 30])\n",
    "joint_index_dictionary['wrist_orientation'] = np.array([6, 10, 14, 18])\n",
    "#\n",
    "joint_index_dictionary['object_position'] = np.array([24, 28, 32])\n",
    "joint_index_dictionary['object_orientation'] = np.array([8, 12, 16, 20])\n",
    "\n",
    "# ALL OF THESE ORIENTATIONS HAVE W LAST. \n",
    "joint_index_dictionary = {}\n",
    "# \n",
    "joint_index_dictionary['gripper_joints'] = np.arange(0,6)\n",
    "# \n",
    "joint_index_dictionary['shoulder_position'] = np.array([25, 29, 33])\n",
    "joint_index_dictionary['shoulder_orientation'] = np.array([13, 17, 21, 9])\n",
    "#\n",
    "joint_index_dictionary['elbow_position'] = np.array([23, 27, 31])\n",
    "joint_index_dictionary['elbow_orientation'] = np.array([11, 15, 19, 7])\n",
    "#\n",
    "joint_index_dictionary['wrist_position'] = np.array([22, 26, 30])\n",
    "joint_index_dictionary['wrist_orientation'] = np.array([10, 14, 18, 6])\n",
    "#\n",
    "joint_index_dictionary['object_position'] = np.array([24, 28, 32])\n",
    "joint_index_dictionary['object_orientation'] = np.array([12, 16, 20, 8])\n"
   ]
  },
  {
   "cell_type": "code",
   "execution_count": null,
   "metadata": {},
   "outputs": [],
   "source": [
    "filelist = sorted(glob.glob(\"*.csv\"))\n",
    "\n",
    "for k,v in enumerate(filelist):\n",
    "\n",
    "    # if not(v.startswith(\"stock_cupboard\")):\n",
    "    if True:\n",
    "    \n",
    "        print(\"################\")\n",
    "        print(\"Processing file: \", k, \" , named: \", v)\n",
    "\n",
    "        # Extract from file\n",
    "        data = np.genfromtxt(v, delimiter=',')\n",
    "        # process\n",
    "        pdata = process_data(data)\n",
    "        # plot\n",
    "        plot_traj(data[1:, 10:13], pdata)"
   ]
  },
  {
   "cell_type": "code",
   "execution_count": 18,
   "metadata": {},
   "outputs": [
    {
     "data": {
      "application/vnd.jupyter.widget-view+json": {
       "model_id": "aae80813223141f6acaa0658c0571946",
       "version_major": 2,
       "version_minor": 0
      },
      "image/png": "[encoded data removed]",
      "text/html": [
       "\n",
       "            <div style=\"display: inline-block;\">\n",
       "                <div class=\"jupyter-widgets widget-label\" style=\"text-align: center;\">\n",
       "                    Figure\n",
       "                </div>\n",
       "                <img src='data:image/png;base64,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' width=640.0/>\n",
       "            </div>\n",
       "        "
      ],
      "text/plain": [
       "Canvas(toolbar=Toolbar(toolitems=[('Home', 'Reset original view', 'home', 'home'), ('Back', 'Back to previous …"
      ]
     },
     "metadata": {},
     "output_type": "display_data"
    }
   ],
   "source": [
    "# data = np.genfromtxt('stock_cupboard_1.csv', delimiter=',')\n",
    "data = np.genfromtxt('right_stocking_cupboard_1.csv', delimiter=',')\n",
    "data2 = np.genfromtxt('right_stocking_cupboard_1.csv', delimiter=',', dtype='str')\n",
    "# processed_data = data[1:, 10:13]\n",
    "# filtered_data, validity = filter_outliers(processed_data)\n",
    "wristpos = data[1:, joint_index_dictionary['wrist_position']]\n",
    "\n",
    "plot_traj(wristpos)"
   ]
  },
  {
   "cell_type": "code",
   "execution_count": 29,
   "metadata": {},
   "outputs": [
    {
     "name": "stdout",
     "output_type": "stream",
     "text": [
      "################################\n",
      "Processing file:  0  , named:  right_closing_door_0.csv\n",
      "################################\n",
      "Processing file:  1  , named:  right_closing_door_1.csv\n",
      "################################\n",
      "Processing file:  2  , named:  right_closing_door_2.csv\n",
      "################################\n",
      "Processing file:  3  , named:  right_opening_door_0.csv\n",
      "################################\n",
      "Processing file:  4  , named:  right_opening_door_1.csv\n",
      "################################\n",
      "Processing file:  5  , named:  right_opening_door_2.csv\n",
      "################################\n",
      "Processing file:  6  , named:  right_stocking_cupboard_0.csv\n",
      "################################\n",
      "Processing file:  7  , named:  right_stocking_cupboard_1.csv\n",
      "################################\n",
      "Processing file:  8  , named:  right_stocking_cupboard_2.csv\n",
      "################################\n",
      "Processing file:  9  , named:  right_stocking_cupboard_box_0.csv\n",
      "################################\n",
      "Processing file:  10  , named:  right_stocking_cupboard_box_1.csv\n",
      "################################\n",
      "Processing file:  11  , named:  right_stocking_cupboard_box_2.csv\n",
      "################################\n",
      "Processing file:  12  , named:  right_stocking_cupboard_pringle_0.csv\n",
      "################################\n",
      "Processing file:  13  , named:  right_stocking_cupboard_pringle_1.csv\n",
      "################################\n",
      "Processing file:  14  , named:  right_stocking_cupboard_pringle_2.csv\n",
      "################################\n",
      "Processing file:  15  , named:  right_stocking_cupboard_spam_0.csv\n",
      "################################\n",
      "Processing file:  16  , named:  right_stocking_cupboard_spam_1.csv\n",
      "################################\n",
      "Processing file:  17  , named:  right_stocking_cupboard_spam_2.csv\n"
     ]
    }
   ],
   "source": [
    "filelist = sorted(glob.glob(\"right*.csv\"))\n",
    "\n",
    "for k,v in enumerate(filelist):\n",
    "\n",
    "    # if not(v.startswith(\"stock_cupboard\")):\n",
    "    if True:\n",
    "    \n",
    "        print(\"################################\")\n",
    "        print(\"Processing file: \", k, \" , named: \", v)\n",
    "\n",
    "        # Extract from file\n",
    "        data = np.genfromtxt(v, delimiter=',')\n",
    "        # # process\n",
    "        # pdata = process_data(data)\n",
    "        # plot\n",
    "        # plot_traj(data[1:, joint_index_dictionary['wrist_position']])\n",
    "        # plot_traj(data[1:, joint_index_dictionary['elbow_position']])\n",
    "        # plot_traj(data[1:, joint_index_dictionary['shoulder_position']])\n",
    "        # plot_traj(data[1:, joint_index_dictionary['object_position']])\n",
    "        # plot_traj(data[1:, joint_index_dictionary['object_position']], processed_data= data[1:, joint_index_dictionary['wrist_position']])"
   ]
  },
  {
   "cell_type": "code",
   "execution_count": 30,
   "metadata": {},
   "outputs": [
    {
     "data": {
      "text/plain": [
       "['right_closing_door_0.csv',\n",
       " 'right_closing_door_1.csv',\n",
       " 'right_closing_door_2.csv',\n",
       " 'right_opening_door_0.csv',\n",
       " 'right_opening_door_1.csv',\n",
       " 'right_opening_door_2.csv',\n",
       " 'right_stocking_cupboard_0.csv',\n",
       " 'right_stocking_cupboard_1.csv',\n",
       " 'right_stocking_cupboard_2.csv',\n",
       " 'right_stocking_cupboard_box_0.csv',\n",
       " 'right_stocking_cupboard_box_1.csv',\n",
       " 'right_stocking_cupboard_box_2.csv',\n",
       " 'right_stocking_cupboard_pringle_0.csv',\n",
       " 'right_stocking_cupboard_pringle_1.csv',\n",
       " 'right_stocking_cupboard_pringle_2.csv',\n",
       " 'right_stocking_cupboard_spam_0.csv',\n",
       " 'right_stocking_cupboard_spam_1.csv',\n",
       " 'right_stocking_cupboard_spam_2.csv']"
      ]
     },
     "execution_count": 30,
     "metadata": {},
     "output_type": "execute_result"
    }
   ],
   "source": [
    "filelist"
   ]
  },
  {
   "cell_type": "code",
   "execution_count": 32,
   "metadata": {},
   "outputs": [
    {
     "name": "stdout",
     "output_type": "stream",
     "text": [
      "gripper_joints [0 1 2 3 4 5]\n",
      "shoulder_position [25 29 33]\n",
      "shoulder_orientation [ 9 13 17 21]\n",
      "elbow_position [23 27 31]\n",
      "elbow_orientation [ 8 11 15 19]\n",
      "wrist_position [22 26 30]\n",
      "wrist_orientation [ 6 10 14 18]\n",
      "object_position [24 28 32]\n",
      "object_orientation [ 8 12 16 20]\n"
     ]
    }
   ],
   "source": [
    "for k,v in joint_index_dictionary.items():\n",
    "    print(k,v)"
   ]
  },
  {
   "cell_type": "code",
   "execution_count": 33,
   "metadata": {},
   "outputs": [
    {
     "data": {
      "text/plain": [
       "dict_keys(['gripper_joints', 'shoulder_position', 'shoulder_orientation', 'elbow_position', 'elbow_orientation', 'wrist_position', 'wrist_orientation', 'object_position', 'object_orientation'])"
      ]
     },
     "execution_count": 33,
     "metadata": {},
     "output_type": "execute_result"
    }
   ],
   "source": [
    "joint_index_dictionary.keys()"
   ]
  },
  {
   "cell_type": "code",
   "execution_count": null,
   "metadata": {},
   "outputs": [],
   "source": []
  }
 ],
 "metadata": {
  "kernelspec": {
   "display_name": "Python 3",
   "language": "python",
   "name": "python3"
  },
  "language_info": {
   "codemirror_mode": {
    "name": "ipython",
    "version": 3
   },
   "file_extension": ".py",
   "mimetype": "text/x-python",
   "name": "python",
   "nbconvert_exporter": "python",
   "pygments_lexer": "ipython3",
   "version": "3.9.0"
  }
 },
 "nbformat": 4,
 "nbformat_minor": 2
}
